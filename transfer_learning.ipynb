{
  "cells": [
    {
      "cell_type": "markdown",
      "metadata": {
        "id": "view-in-github",
        "colab_type": "text"
      },
      "source": [
        "<a href=\"https://colab.research.google.com/github/marikhomeriki/Story/blob/master/transfer_learning.ipynb\" target=\"_parent\"><img src=\"https://colab.research.google.com/assets/colab-badge.svg\" alt=\"Open In Colab\"/></a>"
      ]
    },
    {
      "cell_type": "markdown",
      "metadata": {
        "id": "OqNDta-xZ2u4"
      },
      "source": [
        "# Transfer Learning"
      ]
    },
    {
      "cell_type": "markdown",
      "metadata": {
        "id": "xp81GSFN7uHY"
      },
      "source": [
        "* 🤯 Tech companies and university labs have more computational resources than we do\n",
        "* 😎 Let them train their super complex models on millions of images, and then re-use their kernels for our own CNNs!\n",
        "\n",
        "🎯 **<u>Goal:</u>**\n",
        "* ☄️ Use a **Pretrained Neural Network** $ \\Leftrightarrow $ **Transfer learning**"
      ]
    },
    {
      "cell_type": "markdown",
      "metadata": {
        "id": "LR9-yIauZ2vA"
      },
      "source": [
        "## Google Colab Setup"
      ]
    },
    {
      "cell_type": "markdown",
      "metadata": {
        "id": "ieSm6iw9HizE"
      },
      "source": [
        "Repeat the same process from the last challenge to upload your challenge folder and open your notebook:\n",
        "\n",
        "1. access your [Google Drive](https://drive.google.com/)\n",
        "2. go into the Colab Notebooks folder\n",
        "3. drag and drop this challenge's folder into it\n",
        "4. right-click the notebook file and select `Open with` $\\rightarrow$ `Google Colaboratory`"
      ]
    },
    {
      "cell_type": "markdown",
      "metadata": {
        "id": "7YfeVhhBZ2vC"
      },
      "source": [
        "Don't forget to enable GPU acceleration!\n",
        "\n",
        "`Runtime` $\\rightarrow$ `Change runtime type` $\\rightarrow$ `Hardware accelerator` $\\rightarrow$ `GPU`"
      ]
    },
    {
      "cell_type": "markdown",
      "metadata": {
        "id": "FoRPmZtQZ2vE"
      },
      "source": [
        "When this is done, run the cells below and get to work!"
      ]
    },
    {
      "cell_type": "code",
      "execution_count": 19,
      "metadata": {
        "colab": {
          "base_uri": "https://localhost:8080/"
        },
        "id": "_q8uOTzh5vwJ",
        "outputId": "432fb037-018e-49fa-cd01-86d9c036cf5d"
      },
      "outputs": [
        {
          "output_type": "stream",
          "name": "stdout",
          "text": [
            "Drive already mounted at /content/drive; to attempt to forcibly remount, call drive.mount(\"/content/drive\", force_remount=True).\n"
          ]
        }
      ],
      "source": [
        "# Mount GDrive\n",
        "from google.colab import drive\n",
        "drive.mount('/content/drive')"
      ]
    },
    {
      "cell_type": "code",
      "execution_count": 20,
      "metadata": {
        "id": "7HCO04lsIrcd"
      },
      "outputs": [],
      "source": [
        "# Put Colab in the context of this challenge\n",
        "import os\n",
        "\n",
        "# os.chdir allows you to change directories, like cd in the Terminal\n",
        "os.chdir('/content/drive/MyDrive/Colab Notebooks/data-transfer-learning')"
      ]
    },
    {
      "cell_type": "markdown",
      "metadata": {
        "id": "Z0MdAwhGJdSR"
      },
      "source": [
        "You are now good to go, proceed with the challenge! Don't forget to copy everything back to your PC to upload to Kitt 🚀"
      ]
    },
    {
      "cell_type": "markdown",
      "metadata": {
        "id": "zsdd1Jv7Z2vJ"
      },
      "source": [
        "## (1) What is a Pre-Trained Neural Network?"
      ]
    },
    {
      "cell_type": "markdown",
      "metadata": {
        "id": "shgjzVW4Z2vJ"
      },
      "source": [
        "* Convolutions are mathematical operations designed to detect specific patterns in input images and use them to classify the images. \n",
        "* One could imagine that these patterns are not 100% specific to one task but to the input images. \n",
        "\n",
        "🚀 **Why not re-use these kernels - whose weights have already been optimized - somewhere else?** \n",
        "- The expectation is that the trained kernels could also help us perform another classification task.\n",
        "- We are trying to ***transfer*** the knowledge of a trained CNN to a new classification task.\n",
        "\n",
        "\n",
        "💪 Transfer Learning has two main advantages:\n",
        "- It takes less time to train a pre-trained model since we are not going to update all the weights but only some of them\n",
        "- You benefit from state-of-the-art architectures that have been trained on complex images. "
      ]
    },
    {
      "cell_type": "markdown",
      "metadata": {
        "id": "sOkQIQj4Z2vJ"
      },
      "source": [
        "## (2) Introduction to  VGG16 \n",
        "\n",
        "📚 ***Reading Section, no code***"
      ]
    },
    {
      "cell_type": "markdown",
      "metadata": {
        "id": "pAkNOgtqF7S_"
      },
      "source": [
        "\n",
        "\n",
        "\n",
        "\n",
        "\n",
        "In this exercise, we will use the <a href=\"https://neurohive.io/en/popular-networks/vgg16/\">**`VGG-16 Neural Network`**</a>.\n",
        "\n",
        "> VGG16 is a convolutional neural network model proposed by K. Simonyan and A. Zisserman from the University of Oxford in the paper “Very Deep Convolutional Networks for Large-Scale Image Recognition”. The model achieves 92.7% top-5 test accuracy in ImageNet, which is a dataset of over 14 million images belonging to 1000 classes. It was one of the famous model submitted to ILSVRC-2014. It makes the improvement over AlexNet by replacing large kernel-sized filters (11 and 5 in the first and second convolutional layer, respectively) with multiple 3×3 kernel-sized filters one after another. VGG16 was trained for weeks and was using NVIDIA Titan Black GPU’s.\n",
        "\n",
        "VGG16 is a well-known architecture that has been trained on the <a href=\"https://www.image-net.org/\">**`ImageNet dataset`**</a> which is a very large database of images which belong to different categories. \n",
        "\n",
        "👉 This architecture already learned which kernels are the best for extracting features from the images found in the `ImageNet dataset`.\n",
        "\n",
        "👉 As you can see in the illustration, the VGG16 involves millions of parameters you don't want to retrain yourself.\n",
        "\n",
        "\n",
        "<center><img src=\"https://neurohive.io/wp-content/uploads/2018/11/vgg16-1-e1542731207177.png\" width=400></center>\n",
        "\n",
        "❓ How does it work in practice ❓\n",
        "\n",
        "* The first layers are not specialized for the particular task the VGG16 CNN was trained on\n",
        "* Only the last dense layer is a \"classification layers\" that can be preceded with a couple of dense layers...  Therefore, we will: \n",
        "    1. Load the existing VGG16 network\n",
        "    2. Remove the last fully connected layers\n",
        "    3. Replace them with some new fully-connected layers (whose weights are randomly set)\n",
        "    4. Train these last layers on a specific classification task. \n",
        "\n",
        "😃 Your role is to train only the last layers for your particular problem.\n",
        "\n",
        "🤓 We will use <a href=\"https://www.tensorflow.org/api_docs/python/tf/keras/applications/vgg16/VGG16\">**`tensorflow.keras.applications.VGG16`**</a>\n",
        "\n",
        "<hr>"
      ]
    },
    {
      "cell_type": "markdown",
      "metadata": {
        "id": "o-S858KRF7TA"
      },
      "source": [
        "## (3) Data loading & Preprocessing"
      ]
    },
    {
      "cell_type": "markdown",
      "metadata": {
        "id": "tzLvo4N5Z2vL"
      },
      "source": [
        "You have two options to load the data into Google Colab."
      ]
    },
    {
      "cell_type": "markdown",
      "metadata": {
        "id": "B6vPgeK2Z2vL"
      },
      "source": [
        "### (Option 1) Loading the data directly"
      ]
    },
    {
      "cell_type": "markdown",
      "metadata": {
        "id": "c6FxEU-HZ2vL"
      },
      "source": [
        "* You can first get the data onto google Colab thanks to:\n",
        "\n",
        "`!wget https://wagon-public-datasets.s3.amazonaws.com/flowers-dataset.zip`,\n",
        "\n",
        "* and then run \n",
        "\n",
        "`!unzip flowers-dataset.zip`\n",
        "\n",
        "*This is a very easy option to load the data into your working directory.*"
      ]
    },
    {
      "cell_type": "markdown",
      "metadata": {
        "id": "ID413NdhZ2vL"
      },
      "source": [
        "### (Option 2) Adding the data to Google Drive"
      ]
    },
    {
      "cell_type": "markdown",
      "metadata": {
        "id": "UsnMYzYgZ2vM"
      },
      "source": [
        "* You can first download the data from `https://wagon-public-datasets.s3.amazonaws.com/flowers-dataset.zip`. \n",
        "* Then you have to add it to your Google Drive in a folder called `Deep_learning_data` (for instance)\n",
        "* And run the following code in the notebook: \n",
        "\n",
        "```python\n",
        "from google.colab import drive\n",
        "drive.mount('/content/drive/')\n",
        "```\n",
        "\n",
        "* The previous code will ask you to go to a given webpage where you can copy a temporary key\n",
        "* Paste it in the cell that will appear in your Colab Notebook\n",
        "* You can now load the data on your Google Colab Notebooks"
      ]
    },
    {
      "cell_type": "markdown",
      "metadata": {
        "id": "_yrUUBluZ2vM"
      },
      "source": [
        "### Option 1 or Option 2 ?"
      ]
    },
    {
      "cell_type": "markdown",
      "metadata": {
        "id": "mdS5hErJF7TB"
      },
      "source": [
        "* Why choosing option 2 over the option 1? \n",
        "    * ✅ The combo Colab + Drive can be interesting if you work within a project team, and need to update the data from time to time. \n",
        "    * ✅ By doing this, you can share the same data folder with your teammates, and be sure that everyone has the same dataset at any time, even though someone changes it. \n",
        "    * ❌ Google Colab has now access to your Google Folder..., which you may or may not be in favor of, depending on your sensibilities...\n",
        "\n",
        "---\n",
        "\n",
        "❓ **Question: Loading your dataset** ❓ \n",
        "    \n",
        "Use one of the above methods to load your data"
      ]
    },
    {
      "cell_type": "code",
      "execution_count": null,
      "metadata": {
        "id": "hKw_1TjOF7TC"
      },
      "outputs": [],
      "source": [
        "option_1 = True # Choose here\n",
        "\n",
        "if option_1:\n",
        "    !wget https://wagon-public-datasets.s3.amazonaws.com/flowers-dataset.zip\n",
        "    !unzip flowers-dataset.zip\n",
        "else:\n",
        "    from google.colab import drive\n",
        "    drive.mount('/content/drive/')"
      ]
    },
    {
      "cell_type": "code",
      "execution_count": 22,
      "metadata": {
        "colab": {
          "base_uri": "https://localhost:8080/"
        },
        "id": "GojliSuJ6Zo7",
        "outputId": "2140eb3a-8c70-489e-b491-c0ddf2bfd7f8"
      },
      "outputs": [
        {
          "output_type": "stream",
          "name": "stdout",
          "text": [
            "/content/drive/MyDrive/Colab Notebooks/data-transfer-learning\n"
          ]
        }
      ],
      "source": [
        "!pwd"
      ]
    },
    {
      "cell_type": "code",
      "execution_count": 23,
      "metadata": {
        "colab": {
          "base_uri": "https://localhost:8080/"
        },
        "id": "o91sWUAq6Zo7",
        "outputId": "efc1ea77-f680-4844-857e-4d7f02bafb29"
      },
      "outputs": [
        {
          "output_type": "stream",
          "name": "stdout",
          "text": [
            "flowers\t\t     flowers-dataset.zip.1  transfer_learning.ipynb\n",
            "flowers-dataset.zip  README.md\n"
          ]
        }
      ],
      "source": [
        "!ls"
      ]
    },
    {
      "cell_type": "markdown",
      "metadata": {
        "id": "onPwIzQzF7TE"
      },
      "source": [
        "❓ **Question:Train/Val/Test split** ❓ \n",
        "\n",
        "Use the following method to create \n",
        "`X_train, y_train, X_val, y_val, X_test, y_test, num_classes` depending on the `loading_method` you have used"
      ]
    },
    {
      "cell_type": "code",
      "execution_count": 30,
      "metadata": {
        "id": "FuhgipEW6Zo7"
      },
      "outputs": [],
      "source": [
        "from tensorflow.keras.utils import to_categorical\n",
        "from tqdm import tqdm\n",
        "import numpy as np\n",
        "import os\n",
        "from PIL import Image\n",
        "\n",
        "def load_flowers_data(loading_method):\n",
        "    if loading_method == 'colab':\n",
        "        data_path = '/content/drive/My Drive//Colab Notebooks/data-transfer-learning/flowers'\n",
        "    elif loading_method == 'direct':\n",
        "        data_path = 'flowers/'\n",
        "    classes = {'daisy':0, 'dandelion':1, 'rose':2}\n",
        "    imgs = []\n",
        "    labels = []\n",
        "    for (cl, i) in classes.items():\n",
        "        images_path = [elt for elt in os.listdir(os.path.join(data_path, cl)) if elt.find('.jpg')>0]\n",
        "        for img in tqdm(images_path[:300]):\n",
        "            path = os.path.join(data_path, cl, img)\n",
        "            if os.path.exists(path):\n",
        "                image = Image.open(path)\n",
        "                image = image.resize((256, 256))\n",
        "                imgs.append(np.array(image))\n",
        "                labels.append(i)\n",
        "\n",
        "    X = np.array(imgs)\n",
        "    num_classes = len(set(labels))\n",
        "    y = to_categorical(labels, num_classes)\n",
        "\n",
        "    # Finally we shuffle:\n",
        "    p = np.random.permutation(len(X))\n",
        "    X, y = X[p], y[p]\n",
        "\n",
        "    first_split = int(len(imgs) /6.)\n",
        "    second_split = first_split + int(len(imgs) * 0.2)\n",
        "    X_test, X_val, X_train = X[:first_split], X[first_split:second_split], X[second_split:]\n",
        "    y_test, y_val, y_train = y[:first_split], y[first_split:second_split], y[second_split:]\n",
        "    \n",
        "    return X_train, y_train, X_val, y_val, X_test, y_test, num_classes"
      ]
    },
    {
      "cell_type": "code",
      "execution_count": 33,
      "metadata": {
        "colab": {
          "base_uri": "https://localhost:8080/"
        },
        "id": "q3B1rsIc6Zo8",
        "outputId": "1f61d9f3-333a-4215-88d5-f17d4388d9f3"
      },
      "outputs": [
        {
          "output_type": "stream",
          "name": "stderr",
          "text": [
            "100%|██████████| 300/300 [00:01<00:00, 166.23it/s]\n",
            "100%|██████████| 300/300 [00:01<00:00, 152.22it/s]\n",
            "100%|██████████| 299/299 [00:01<00:00, 157.07it/s]\n"
          ]
        }
      ],
      "source": [
        "X_train, y_train, X_val, y_val, X_test, y_test, num_classes = load_flowers_data('colab')"
      ]
    },
    {
      "cell_type": "markdown",
      "metadata": {
        "id": "pm2IsMmGF7TH"
      },
      "source": [
        "❓ **Question: Exploring the images** ❓\n",
        "\n",
        "Check the images' shapes and plot a few of them."
      ]
    },
    {
      "cell_type": "markdown",
      "metadata": {
        "id": "EdMfP6dyF7TJ"
      },
      "source": [
        "## (4) A CNN architecture"
      ]
    },
    {
      "cell_type": "markdown",
      "metadata": {
        "id": "njYcWjw1F7TJ"
      },
      "source": [
        "First, let's build our own CNN."
      ]
    },
    {
      "cell_type": "markdown",
      "metadata": {
        "id": "wneAeLYdF7TK"
      },
      "source": [
        "\n",
        "\n",
        "❓ **Questions** ❓ \n",
        "\n",
        "1. <u>CNN Architecture and compiler:</u> Create a CNN with your own architecture and a function `load_own_model` that will be able to generate it. Some advice:\n",
        "    - Incorporate the Rescaling Layer in your Sequential architecture\n",
        "    - Add three Conv2D/MaxPooling2D combinations with an increasing number of channels and a decreasing size of kernels for example (be creative, that is not a rule of thumb, mastering CNN is an art)\n",
        "    - Don't forget the Flatten layer and some hidden layers\n",
        "    - Finish with the predictive layer\n",
        "    - Compile your CNN model accordingly\n",
        "  \n",
        "  \n",
        "2. <u>Training and comparison</u>:\n",
        "    - Train your CNN\n",
        "    - Compare its performance to a baseline accuracy\n",
        "\n",
        "<details>\n",
        "    <summary><i>Recommended architecture:</i></summary>\n",
        "\n",
        "```python\n",
        "from tensorflow.keras.layers.experimental.preprocessing import Rescaling\n",
        "\n",
        "model = Sequential()\n",
        "\n",
        "# Notice this cool new layer that \"pipe\" your rescaling within the architecture\n",
        "model.add(Rescaling(1./255, input_shape=(256,256,3)))\n",
        "\n",
        "# Lets add 3 convolution layers, with relatively large kernel size as our pictures are quite big too\n",
        "model.add(layers.Conv2D(16, kernel_size=10, activation='relu'))\n",
        "model.add(layers.MaxPooling2D(3))\n",
        "\n",
        "model.add(layers.Conv2D(32, kernel_size=8, activation=\"relu\"))\n",
        "model.add(layers.MaxPooling2D(3))\n",
        "\n",
        "model.add(layers.Conv2D(32, kernel_size=6, activation=\"relu\"))\n",
        "model.add(layers.MaxPooling2D(3))\n",
        "\n",
        "model.add(layers.Flatten())\n",
        "model.add(layers.Dense(100, activation='relu'))\n",
        "model.add(layers.Dense(3, activation='softmax'))\n",
        "```\n",
        "\n",
        "        \n",
        "</details>        "
      ]
    },
    {
      "cell_type": "code",
      "source": [
        "from tensorflow.keras.layers.experimental.preprocessing import Rescaling\n",
        "from tensorflow.keras import layers, models\n",
        "\n",
        "\n",
        "def initialize_model():\n",
        "  model = models.Sequential()\n",
        "\n",
        "# Notice this cool new layer that \"pipe\" your rescaling within the architectur\n",
        "  model.add(Rescaling(1./255, input_shape=(256,256,3)))\n",
        "\n",
        "# Lets add 3 convolution layers, with relatively large kernel size as our pictures are quite big too\n",
        "  model.add(layers.Conv2D(16, kernel_size=10, activation='relu'))\n",
        "  model.add(layers.MaxPooling2D(3))\n",
        "\n",
        "  model.add(layers.Conv2D(32, kernel_size=8, activation=\"relu\"))\n",
        "  model.add(layers.MaxPooling2D(3))\n",
        "\n",
        "  model.add(layers.Conv2D(32, kernel_size=6, activation=\"relu\"))\n",
        "  model.add(layers.MaxPooling2D(3))\n",
        "\n",
        "  model.add(layers.Flatten())\n",
        "  model.add(layers.Dense(100, activation='relu'))\n",
        "  model.add(layers.Dense(3, activation='softmax'))  \n",
        "  \n",
        "  model.compile(loss='categorical_crossentropy',\n",
        "              optimizer='adam',\n",
        "              metrics=['accuracy'])\n",
        "  return model\n",
        "    \n",
        "\n",
        "  \n"
      ],
      "metadata": {
        "id": "HOQoGVZSBTrv"
      },
      "execution_count": 64,
      "outputs": []
    },
    {
      "cell_type": "code",
      "source": [
        "model = initialize_model()"
      ],
      "metadata": {
        "id": "a49qY5GKCDFS"
      },
      "execution_count": 65,
      "outputs": []
    },
    {
      "cell_type": "code",
      "source": [
        "from tensorflow.keras.callbacks import EarlyStopping\n",
        "\n",
        "\n",
        "es = EarlyStopping(patience=30, restore_best_weights=True)\n",
        "res = model.fit(X_train, y_train, batch_size=16, \n",
        "          epochs=5,    \n",
        "          validation_split=0.3,\n",
        "          callbacks=[es],\n",
        "          verbose=1)"
      ],
      "metadata": {
        "colab": {
          "base_uri": "https://localhost:8080/"
        },
        "id": "XMNGX7W0DKrp",
        "outputId": "e190f6e8-cfda-45f7-b570-6d186574754a"
      },
      "execution_count": 66,
      "outputs": [
        {
          "output_type": "stream",
          "name": "stdout",
          "text": [
            "Epoch 1/5\n",
            "25/25 [==============================] - 78s 3s/step - loss: 1.0553 - accuracy: 0.4035 - val_loss: 0.9000 - val_accuracy: 0.4942\n",
            "Epoch 2/5\n",
            "25/25 [==============================] - 72s 3s/step - loss: 0.9295 - accuracy: 0.5088 - val_loss: 1.2061 - val_accuracy: 0.4302\n",
            "Epoch 3/5\n",
            "25/25 [==============================] - 72s 3s/step - loss: 0.9468 - accuracy: 0.5288 - val_loss: 0.8649 - val_accuracy: 0.6337\n",
            "Epoch 4/5\n",
            "25/25 [==============================] - 72s 3s/step - loss: 0.8843 - accuracy: 0.5514 - val_loss: 0.8443 - val_accuracy: 0.5523\n",
            "Epoch 5/5\n",
            "25/25 [==============================] - 72s 3s/step - loss: 0.8536 - accuracy: 0.5789 - val_loss: 0.8197 - val_accuracy: 0.6105\n"
          ]
        }
      ]
    },
    {
      "cell_type": "code",
      "source": [
        "res = model.evaluate(X_test, y_test)"
      ],
      "metadata": {
        "colab": {
          "base_uri": "https://localhost:8080/"
        },
        "id": "OPw9OTWxFl9H",
        "outputId": "6708ee8b-aa1d-446e-9c01-dd3d2ff09004"
      },
      "execution_count": 67,
      "outputs": [
        {
          "output_type": "stream",
          "name": "stdout",
          "text": [
            "5/5 [==============================] - 5s 1s/step - loss: 0.8237 - accuracy: 0.6443\n"
          ]
        }
      ]
    },
    {
      "cell_type": "code",
      "execution_count": 68,
      "metadata": {
        "colab": {
          "base_uri": "https://localhost:8080/"
        },
        "id": "eys9hshv6Zo8",
        "outputId": "ffd42e4b-8be1-49c8-953a-5619538abce2"
      },
      "outputs": [
        {
          "output_type": "stream",
          "name": "stdout",
          "text": [
            "test_accuracy = 64.0 %\n"
          ]
        }
      ],
      "source": [
        "test_accuracy = res[-1]\n",
        "print(f\"test_accuracy = {round(test_accuracy,2)*100} %\")"
      ]
    },
    {
      "cell_type": "markdown",
      "metadata": {
        "id": "3DC2SFwUZ2vR"
      },
      "source": [
        "🥡 <b><u>Takeaways from building your own CNN</u></b>:\n",
        "* On an \"easy dataset\" like the MNIST, it is now easy to reach a decent accuracy. But for a more complicated problem like classifying flowers, it already becomes more challenging. Take a few minutes to play with the following link before moving on to Transfer Learning\n",
        "    * [PoloClub/CNN-Explainer](https://poloclub.github.io/cnn-explainer/)"
      ]
    },
    {
      "cell_type": "markdown",
      "metadata": {
        "id": "sx8V9sny7cLP"
      },
      "source": [
        "## (5) Using a pre-trained CNN = Transfer learning"
      ]
    },
    {
      "cell_type": "markdown",
      "metadata": {
        "id": "oxhI8bluZ2vR"
      },
      "source": [
        "As we said in the beginning, tech companies and university labs have more computational resources than we do.\n",
        "\n",
        "🔥 The [**Visual Geometry Group**](https://www.robots.ox.ac.uk/~vgg/data/) *(Oxford University, Department of Science and Engineering)* became famous for some of their **Very Deep Convolutional Neural Networks**: the [**VGG16**](https://www.robots.ox.ac.uk/~vgg/research/very_deep/)\n",
        "\n",
        "Take 7 minutes of your time to watch this incredible video of Convolutional Layers created by Dimitri Dmitriev.\n",
        "\n",
        "* 📺 **[VGG16 Neural Network Visualization](https://www.youtube.com/watch?v=RNnKtNrsrmg)**\n"
      ]
    },
    {
      "cell_type": "markdown",
      "metadata": {
        "id": "YZldqCInZ2vS"
      },
      "source": [
        "### (5.1) Load VGG16 model"
      ]
    },
    {
      "cell_type": "markdown",
      "metadata": {
        "id": "nr6m5eKs9s54"
      },
      "source": [
        "❓ **Question: loading the VGG16** ❓ \n",
        "\n",
        "* Write a first function `load_model()` that loads the pretrained VGG-16 model from `tensorflow.keras.applications.vgg16`. Have a look at the documentation 📚  [tf/keras/applications/VGG16](https://www.tensorflow.org/api_docs/python/tf/keras/applications/VGG16)📚\n",
        "\n",
        "* We will **load the VGG16 model** the following way:\n",
        "    - 🤯 Let's use the **weights** learned on the [**imagenet dataset**](https://www.image-net.org/download.php) (14M pictures with 20k labels)\n",
        "    - The **`input_shape`** corresponds to the input shape of your images \n",
        "        - Note: *You have to resize them down to a consistent shape if they have different height/widths/channels*\n",
        "    - The **`include_top`** argument should be set to `False`: \n",
        "        - to avoid loading the weights of the fully-connected layers of the VGG16\n",
        "        - and also remove the last layer of the VGG16 which was specifically trained on `imagenet`\n",
        "\n",
        "<i><u>Remark:</u></i> Do not change the default value of the other arguments"
      ]
    },
    {
      "cell_type": "code",
      "source": [
        "X_train.shape"
      ],
      "metadata": {
        "colab": {
          "base_uri": "https://localhost:8080/"
        },
        "id": "g5X2X8mFIQyr",
        "outputId": "a41ea17f-28ff-4a94-a899-6564375da582"
      },
      "execution_count": 56,
      "outputs": [
        {
          "output_type": "execute_result",
          "data": {
            "text/plain": [
              "(571, 256, 256, 3)"
            ]
          },
          "metadata": {},
          "execution_count": 56
        }
      ]
    },
    {
      "cell_type": "code",
      "execution_count": 57,
      "metadata": {
        "id": "EufUdC0V6Zo8"
      },
      "outputs": [],
      "source": [
        "from tensorflow.keras.applications.vgg16 import VGG16\n",
        "\n",
        "def load_model():\n",
        "    \n",
        "    model = VGG16(include_top=False,input_shape=(256, 256, 3))\n",
        "    \n",
        "    return model"
      ]
    },
    {
      "cell_type": "markdown",
      "metadata": {
        "id": "w3psG3JGF7TO"
      },
      "source": [
        "❓ **Question: number of parameters in the VGG16** ❓ \n",
        "\n",
        "Look at the architecture of the model using ***.summary()***"
      ]
    },
    {
      "cell_type": "code",
      "execution_count": 58,
      "metadata": {
        "id": "JtBpKLegF7TO",
        "tags": [
          "challengify"
        ],
        "colab": {
          "base_uri": "https://localhost:8080/"
        },
        "outputId": "f6c5a71c-1356-48cc-a6b5-766f51515445"
      },
      "outputs": [
        {
          "output_type": "execute_result",
          "data": {
            "text/plain": [
              "(None, 256, 256, 3)"
            ]
          },
          "metadata": {},
          "execution_count": 58
        }
      ],
      "source": [
        "model = load_model()\n",
        "model.input_shape"
      ]
    },
    {
      "cell_type": "code",
      "source": [
        "model.summary()"
      ],
      "metadata": {
        "colab": {
          "base_uri": "https://localhost:8080/"
        },
        "id": "LfSB8QDsIs5g",
        "outputId": "0f7ed78c-7ed7-4188-df9c-4899edff3287"
      },
      "execution_count": 59,
      "outputs": [
        {
          "output_type": "stream",
          "name": "stdout",
          "text": [
            "Model: \"vgg16\"\n",
            "_________________________________________________________________\n",
            " Layer (type)                Output Shape              Param #   \n",
            "=================================================================\n",
            " input_3 (InputLayer)        [(None, 256, 256, 3)]     0         \n",
            "                                                                 \n",
            " block1_conv1 (Conv2D)       (None, 256, 256, 64)      1792      \n",
            "                                                                 \n",
            " block1_conv2 (Conv2D)       (None, 256, 256, 64)      36928     \n",
            "                                                                 \n",
            " block1_pool (MaxPooling2D)  (None, 128, 128, 64)      0         \n",
            "                                                                 \n",
            " block2_conv1 (Conv2D)       (None, 128, 128, 128)     73856     \n",
            "                                                                 \n",
            " block2_conv2 (Conv2D)       (None, 128, 128, 128)     147584    \n",
            "                                                                 \n",
            " block2_pool (MaxPooling2D)  (None, 64, 64, 128)       0         \n",
            "                                                                 \n",
            " block3_conv1 (Conv2D)       (None, 64, 64, 256)       295168    \n",
            "                                                                 \n",
            " block3_conv2 (Conv2D)       (None, 64, 64, 256)       590080    \n",
            "                                                                 \n",
            " block3_conv3 (Conv2D)       (None, 64, 64, 256)       590080    \n",
            "                                                                 \n",
            " block3_pool (MaxPooling2D)  (None, 32, 32, 256)       0         \n",
            "                                                                 \n",
            " block4_conv1 (Conv2D)       (None, 32, 32, 512)       1180160   \n",
            "                                                                 \n",
            " block4_conv2 (Conv2D)       (None, 32, 32, 512)       2359808   \n",
            "                                                                 \n",
            " block4_conv3 (Conv2D)       (None, 32, 32, 512)       2359808   \n",
            "                                                                 \n",
            " block4_pool (MaxPooling2D)  (None, 16, 16, 512)       0         \n",
            "                                                                 \n",
            " block5_conv1 (Conv2D)       (None, 16, 16, 512)       2359808   \n",
            "                                                                 \n",
            " block5_conv2 (Conv2D)       (None, 16, 16, 512)       2359808   \n",
            "                                                                 \n",
            " block5_conv3 (Conv2D)       (None, 16, 16, 512)       2359808   \n",
            "                                                                 \n",
            " block5_pool (MaxPooling2D)  (None, 8, 8, 512)         0         \n",
            "                                                                 \n",
            "=================================================================\n",
            "Total params: 14,714,688\n",
            "Trainable params: 14,714,688\n",
            "Non-trainable params: 0\n",
            "_________________________________________________________________\n"
          ]
        }
      ]
    },
    {
      "cell_type": "markdown",
      "metadata": {
        "id": "D1IAwxRVF7TO"
      },
      "source": [
        "<img src=\"https://neurohive.io/wp-content/uploads/2018/11/vgg16-1-e1542731207177.png\">\n",
        "\n",
        "💪 Impressive, right? Two things to notice:\n",
        "- It ends with a combo Conv2D/MaxPooling2D \n",
        "- The `layers.Flatten` and the `layers.Dense` are not there yet, we need to add them.\n",
        "- There are more than 14,000,000 parameters, which is a lot... \n",
        "    - We could fine-tune them, i.e. update them as we will update the weights of the dense layers, but it will take a lot of time....\n",
        "    - For this reason, we will inform the model that the layers before the flattening will be set non-trainable.\n",
        "\n",
        "---"
      ]
    },
    {
      "cell_type": "markdown",
      "metadata": {
        "id": "ehMaUN34Z2vT"
      },
      "source": [
        "❓ **Question: deactivating the training of the VGG16 paramters** ❓ \n",
        "\n",
        "* Write a first function which:\n",
        "    - takes the previous model as the input\n",
        "    - sets the first layers to be non-trainable, by applying **`model.trainable = False`**\n",
        "    - returns the model.\n",
        "\n",
        "* Then inspect the summary of the model to check that the parameters are no longer trainable, they were set to be **`non-trainable`**.\n",
        "\n"
      ]
    },
    {
      "cell_type": "code",
      "execution_count": 60,
      "metadata": {
        "id": "pwdWc_7i6Zo9"
      },
      "outputs": [],
      "source": [
        "def set_nontrainable_layers(model):\n",
        "    \n",
        "    model.trainable = False\n",
        "    \n",
        "    return model"
      ]
    },
    {
      "cell_type": "code",
      "source": [
        "model = set_nontrainable_layers(model)\n",
        "model.summary()"
      ],
      "metadata": {
        "colab": {
          "base_uri": "https://localhost:8080/"
        },
        "id": "1XoBvxg6K2Ze",
        "outputId": "a9cc842c-c9b4-42b9-e083-d35686abc7d0"
      },
      "execution_count": 61,
      "outputs": [
        {
          "output_type": "stream",
          "name": "stdout",
          "text": [
            "Model: \"vgg16\"\n",
            "_________________________________________________________________\n",
            " Layer (type)                Output Shape              Param #   \n",
            "=================================================================\n",
            " input_3 (InputLayer)        [(None, 256, 256, 3)]     0         \n",
            "                                                                 \n",
            " block1_conv1 (Conv2D)       (None, 256, 256, 64)      1792      \n",
            "                                                                 \n",
            " block1_conv2 (Conv2D)       (None, 256, 256, 64)      36928     \n",
            "                                                                 \n",
            " block1_pool (MaxPooling2D)  (None, 128, 128, 64)      0         \n",
            "                                                                 \n",
            " block2_conv1 (Conv2D)       (None, 128, 128, 128)     73856     \n",
            "                                                                 \n",
            " block2_conv2 (Conv2D)       (None, 128, 128, 128)     147584    \n",
            "                                                                 \n",
            " block2_pool (MaxPooling2D)  (None, 64, 64, 128)       0         \n",
            "                                                                 \n",
            " block3_conv1 (Conv2D)       (None, 64, 64, 256)       295168    \n",
            "                                                                 \n",
            " block3_conv2 (Conv2D)       (None, 64, 64, 256)       590080    \n",
            "                                                                 \n",
            " block3_conv3 (Conv2D)       (None, 64, 64, 256)       590080    \n",
            "                                                                 \n",
            " block3_pool (MaxPooling2D)  (None, 32, 32, 256)       0         \n",
            "                                                                 \n",
            " block4_conv1 (Conv2D)       (None, 32, 32, 512)       1180160   \n",
            "                                                                 \n",
            " block4_conv2 (Conv2D)       (None, 32, 32, 512)       2359808   \n",
            "                                                                 \n",
            " block4_conv3 (Conv2D)       (None, 32, 32, 512)       2359808   \n",
            "                                                                 \n",
            " block4_pool (MaxPooling2D)  (None, 16, 16, 512)       0         \n",
            "                                                                 \n",
            " block5_conv1 (Conv2D)       (None, 16, 16, 512)       2359808   \n",
            "                                                                 \n",
            " block5_conv2 (Conv2D)       (None, 16, 16, 512)       2359808   \n",
            "                                                                 \n",
            " block5_conv3 (Conv2D)       (None, 16, 16, 512)       2359808   \n",
            "                                                                 \n",
            " block5_pool (MaxPooling2D)  (None, 8, 8, 512)         0         \n",
            "                                                                 \n",
            "=================================================================\n",
            "Total params: 14,714,688\n",
            "Trainable params: 0\n",
            "Non-trainable params: 14,714,688\n",
            "_________________________________________________________________\n"
          ]
        }
      ]
    },
    {
      "cell_type": "markdown",
      "metadata": {
        "id": "D4yedT2VF7TP"
      },
      "source": [
        "❓ **Question: chaining the pretrained convolutional layers of VGG16 with our own dense layers** ❓ \n",
        "\n",
        "We will write a function that adds flattening and dense layers after the convolutional layers. To do so, we cannot directly use the classic `layers.Sequential()` instantiation.\n",
        "\n",
        "For that reason, we will discover another way here. The idea is that we define each layer (or group of layers) separately. Then, we concatenate them. Have a look at this example: \n",
        "\n",
        "---\n",
        "```python\n",
        "base_model = load_model()\n",
        "base_model = set_nontrainable_layers(base_model)\n",
        "flattening_layer = layers.Flatten()\n",
        "dense_layer = layers.Dense(SOME_NUMBER_1, activation='relu')\n",
        "prediction_layer = layers.Dense(SOME_NUMBER_2, activation='APPROPRIATE_ACTIVATION')\n",
        "\n",
        "model = tf.keras.Sequential([\n",
        "  base_model,\n",
        "  flattening_layer,\n",
        "  dense_layer,\n",
        "  prediction_layer\n",
        "])\n",
        "\n",
        "```\n",
        "---\n",
        "\n",
        "* The first line loads a group of layers which is the previous VGG-16 model. \n",
        "* Then, we set these layers to be non-trainable.\n",
        "* Eventually, we can instantiate as many layers as we want.\n",
        "* Finally, we use the `Sequential` with the sequence of layers that will correspond to our overall neural network. \n",
        "\n",
        "Replicate the following steps by adding:\n",
        "* a flattening layer\n",
        "* two dense layers (the first with 500 neurons) to the previous VGG-16 model."
      ]
    },
    {
      "cell_type": "code",
      "execution_count": 70,
      "metadata": {
        "id": "toQul6-w6Zo-"
      },
      "outputs": [],
      "source": [
        "from tensorflow.keras import layers, models\n",
        "import tensorflow as tf\n",
        "\n",
        "def add_last_layers(model):\n",
        "    '''Take a pre-trained model, set its parameters as non-trainable, and add additional trainable layers on top'''\n",
        "    base_model = load_model()\n",
        "    base_model = set_nontrainable_layers(base_model)\n",
        "    flattening_layer = layers.Flatten()\n",
        "    dense_layer = layers.Dense(500, activation='relu')\n",
        "    prediction_layer = layers.Dense(3, activation='softmax')\n",
        "\n",
        "    model = tf.keras.Sequential([\n",
        "      base_model,\n",
        "      flattening_layer,\n",
        "      dense_layer,\n",
        "      prediction_layer\n",
        "    ])\n",
        "    return model"
      ]
    },
    {
      "cell_type": "markdown",
      "metadata": {
        "id": "L-24j0psF7TQ"
      },
      "source": [
        "❓ **Question: inspect the parameters of a customized VGG16** ❓ \n",
        "\n",
        "* Now look at the layers and the parameters of your model. \n",
        "* Note that there is a distinction, at the end, between the **trainable** and **non-trainable parameters**"
      ]
    },
    {
      "cell_type": "code",
      "execution_count": 71,
      "metadata": {
        "id": "0uqGuxsJF7TR",
        "tags": [
          "challengify"
        ],
        "colab": {
          "base_uri": "https://localhost:8080/"
        },
        "outputId": "3d09022e-4a99-4ac2-db61-e3aec024cc70"
      },
      "outputs": [
        {
          "output_type": "stream",
          "name": "stdout",
          "text": [
            "Model: \"sequential_3\"\n",
            "_________________________________________________________________\n",
            " Layer (type)                Output Shape              Param #   \n",
            "=================================================================\n",
            " vgg16 (Functional)          (None, 8, 8, 512)         14714688  \n",
            "                                                                 \n",
            " flatten_5 (Flatten)         (None, 32768)             0         \n",
            "                                                                 \n",
            " dense_6 (Dense)             (None, 500)               16384500  \n",
            "                                                                 \n",
            " dense_7 (Dense)             (None, 3)                 1503      \n",
            "                                                                 \n",
            "=================================================================\n",
            "Total params: 31,100,691\n",
            "Trainable params: 16,386,003\n",
            "Non-trainable params: 14,714,688\n",
            "_________________________________________________________________\n"
          ]
        }
      ],
      "source": [
        "model = add_last_layers(model)\n",
        "model.summary()"
      ]
    },
    {
      "cell_type": "markdown",
      "metadata": {
        "id": "yxXlnPp5F7TR"
      },
      "source": [
        "❓ **Question: building a function that creates a full customized VGG16 and compiles it** ❓ \n",
        "\n",
        "* Write a function which builds and compiles your model\n",
        "    * We advise using the _adam_ optimizer with `learning_rate=1e-4`. "
      ]
    },
    {
      "cell_type": "code",
      "execution_count": 72,
      "metadata": {
        "id": "T3Oi3Xa86Zo-"
      },
      "outputs": [],
      "source": [
        "from tensorflow.keras import optimizers\n",
        "\n",
        "def build_model():\n",
        "  adam_opt = optimizers.Adam(learning_rate=1e-4)\n",
        "  model = load_model()\n",
        "  model = set_nontrainable_layers(model)\n",
        "  model = add_last_layers(model)\n",
        "  model.compile(loss='categorical_crossentropy', \n",
        "              optimizer=adam_opt,\n",
        "              metrics=['accuracy'])\n",
        "  return model\n",
        "\n"
      ]
    },
    {
      "cell_type": "markdown",
      "metadata": {
        "id": "S96qsiKxZ2vU"
      },
      "source": [
        "### (5.2) Back to the data"
      ]
    },
    {
      "cell_type": "markdown",
      "metadata": {
        "id": "rbkwOw1eF7TS"
      },
      "source": [
        "🚨 The VGG16 model was trained on images which were preprocessed in a specific way. This is the reason why we did _NOT_ normalize them earlier.\n",
        "\n",
        "❓ **Question: preprocessing the dataset** ❓ \n",
        "\n",
        "Apply the specific processing to the original (non-normalized) images here using the method **`preprocess_input`** that you can import from **`tensorflow.keras.applications.vgg16`**\n",
        "\n",
        "📚 Cf. [documentation](https://www.tensorflow.org/api_docs/python/tf/keras/applications/vgg16/preprocess_input)"
      ]
    },
    {
      "cell_type": "code",
      "execution_count": 73,
      "metadata": {
        "id": "WzzCnpNs6Zo-"
      },
      "outputs": [],
      "source": [
        "from tensorflow.keras.applications.vgg16 import preprocess_input"
      ]
    },
    {
      "cell_type": "code",
      "execution_count": 74,
      "metadata": {
        "id": "uNeJZvtV3YDf",
        "tags": [
          "challengify"
        ]
      },
      "outputs": [],
      "source": [
        "X_train_proc = preprocess_input(X_train)"
      ]
    },
    {
      "cell_type": "code",
      "source": [
        "model = build_model()"
      ],
      "metadata": {
        "id": "6k3yo-pAO2yv"
      },
      "execution_count": 76,
      "outputs": []
    },
    {
      "cell_type": "markdown",
      "source": [],
      "metadata": {
        "id": "hdmcLteuOtWU"
      }
    },
    {
      "cell_type": "code",
      "source": [
        "res = model.fit(X_train_proc, y_train, batch_size=16, \n",
        "          epochs=5,    \n",
        "          validation_split=0.3,\n",
        "          callbacks=[es],\n",
        "          verbose=1)"
      ],
      "metadata": {
        "colab": {
          "base_uri": "https://localhost:8080/"
        },
        "id": "Xe1zpieVOtpB",
        "outputId": "99a17cf2-974f-4a7d-93ac-0ca6fbc30dde"
      },
      "execution_count": 77,
      "outputs": [
        {
          "output_type": "stream",
          "name": "stdout",
          "text": [
            "Epoch 1/5\n",
            "25/25 [==============================] - 376s 15s/step - loss: 2.7914 - accuracy: 0.8020 - val_loss: 2.6348 - val_accuracy: 0.7849\n",
            "Epoch 2/5\n",
            "25/25 [==============================] - 374s 15s/step - loss: 0.2281 - accuracy: 0.9749 - val_loss: 2.9720 - val_accuracy: 0.8605\n",
            "Epoch 3/5\n",
            "25/25 [==============================] - 375s 15s/step - loss: 0.1328 - accuracy: 0.9925 - val_loss: 2.3987 - val_accuracy: 0.8779\n",
            "Epoch 4/5\n",
            "25/25 [==============================] - 382s 15s/step - loss: 6.9871e-05 - accuracy: 1.0000 - val_loss: 2.3631 - val_accuracy: 0.8721\n",
            "Epoch 5/5\n",
            "25/25 [==============================] - 373s 15s/step - loss: 2.0044e-05 - accuracy: 1.0000 - val_loss: 2.3591 - val_accuracy: 0.8721\n"
          ]
        }
      ]
    },
    {
      "cell_type": "markdown",
      "metadata": {
        "id": "2T7HvbQfZ2vZ"
      },
      "source": [
        "### (5.3)  Fit the model"
      ]
    },
    {
      "cell_type": "markdown",
      "metadata": {
        "id": "Wu2H0KZF-EoI"
      },
      "source": [
        "\n",
        "\n",
        "❓ **Question: Training the customized VGG16** ❓ \n",
        "\n",
        "* Train the model with an Early stopping criterion on the validation accuracy -\n",
        "* Since the validation data is provided use `validation_data` instead of `validation_split`.\n",
        "\n",
        "_As usual, store the results of your training into a `history` variable._"
      ]
    },
    {
      "cell_type": "code",
      "execution_count": null,
      "metadata": {
        "id": "grmnNmjeAXcQ",
        "tags": [
          "challengify"
        ]
      },
      "outputs": [],
      "source": [
        "# YOUR CODE HERE"
      ]
    },
    {
      "cell_type": "markdown",
      "metadata": {
        "id": "ec_I9JpiAm-W"
      },
      "source": [
        "❓ **Question: Looking at the accuracy** ❓ \n",
        "\n",
        "Plot the accuracy for both the train set and and the validation set using the usual function below"
      ]
    },
    {
      "cell_type": "code",
      "execution_count": 78,
      "metadata": {
        "id": "x9gvV4696Zo_"
      },
      "outputs": [],
      "source": [
        "def plot_history(history, title='', axs=None, exp_name=\"\"):\n",
        "    if axs is not None:\n",
        "        ax1, ax2 = axs\n",
        "    else:\n",
        "        f, (ax1, ax2) = plt.subplots(1, 2, figsize=(12, 4))\n",
        "    \n",
        "    if len(exp_name) > 0 and exp_name[0] != '_':\n",
        "        exp_name = '_' + exp_name\n",
        "    ax1.plot(history.history['loss'], label='train' + exp_name)\n",
        "    ax1.plot(history.history['val_loss'], label='val' + exp_name)\n",
        "    #ax1.set_ylim(0., 2.2)\n",
        "    ax1.set_title('loss')\n",
        "    ax1.legend()\n",
        "\n",
        "    ax2.plot(history.history['accuracy'], label='train accuracy'  + exp_name)\n",
        "    ax2.plot(history.history['val_accuracy'], label='val accuracy'  + exp_name)\n",
        "    #ax2.set_ylim(0.25, 1.)\n",
        "    ax2.set_title('Accuracy')\n",
        "    ax2.legend()\n",
        "    return (ax1, ax2)"
      ]
    },
    {
      "cell_type": "code",
      "execution_count": 80,
      "metadata": {
        "id": "ESzinGOY6aBc",
        "tags": [
          "challengify"
        ],
        "colab": {
          "base_uri": "https://localhost:8080/",
          "height": 317
        },
        "outputId": "df4a4cfb-ddbd-456a-9461-902d87707079"
      },
      "outputs": [
        {
          "output_type": "execute_result",
          "data": {
            "text/plain": [
              "(<matplotlib.axes._subplots.AxesSubplot at 0x7f50cc71ca10>,\n",
              " <matplotlib.axes._subplots.AxesSubplot at 0x7f50cc70d9d0>)"
            ]
          },
          "metadata": {},
          "execution_count": 80
        },
        {
          "output_type": "display_data",
          "data": {
            "text/plain": [
              "<Figure size 864x288 with 2 Axes>"
            ],
            "image/png": "[encoded data removed]"
          },
          "metadata": {
            "needs_background": "light"
          }
        }
      ],
      "source": [
        "import matplotlib.pyplot as plt\n",
        "plot_history(res, title='Accuracy with pre-trained model', exp_name=\"Name\")"
      ]
    },
    {
      "cell_type": "markdown",
      "metadata": {
        "id": "y3plexlQAtcC"
      },
      "source": [
        "❓ **Question: Evaluating the model** ❓\n",
        "\n",
        "Evaluate the customized VGG16 accuracy on the test set. Did we improve?"
      ]
    },
    {
      "cell_type": "code",
      "execution_count": 81,
      "metadata": {
        "id": "ps_9HwUyRVj9",
        "tags": [
          "challengify"
        ],
        "colab": {
          "base_uri": "https://localhost:8080/"
        },
        "outputId": "59c19da9-e0b7-41d1-ad07-98cb71e0e6b1"
      },
      "outputs": [
        {
          "output_type": "stream",
          "name": "stdout",
          "text": [
            "5/5 [==============================] - 104s 21s/step - loss: 2.7809 - accuracy: 0.8456\n"
          ]
        }
      ],
      "source": [
        "results = model.evaluate(X_test, y_test)"
      ]
    },
    {
      "cell_type": "code",
      "source": [
        "test_accuracy = results[-1]\n",
        "print(f\"test_accuracy = {round(test_accuracy,2)*100} %\")"
      ],
      "metadata": {
        "colab": {
          "base_uri": "https://localhost:8080/"
        },
        "id": "Zl3aIpsxWb64",
        "outputId": "5eec01cc-2773-4249-ef27-b81cb030c404"
      },
      "execution_count": 82,
      "outputs": [
        {
          "output_type": "stream",
          "name": "stdout",
          "text": [
            "test_accuracy = 85.0 %\n"
          ]
        }
      ]
    },
    {
      "cell_type": "markdown",
      "metadata": {
        "id": "N5T1KvsGZ2va"
      },
      "source": [
        "## (6) (Optional) Improve the model"
      ]
    },
    {
      "cell_type": "markdown",
      "metadata": {
        "id": "oF39HIb7BSOy"
      },
      "source": [
        "Now, you can try to improve the model's test accuracy. To do that, here are some options you can consider\n",
        "\n",
        "1. **Unfreeze and finetune**: Source: [Google tutorial](https://www.tensorflow.org/guide/keras/transfer_learning#fine-tuning) \n",
        ">_Once your model has converged on the new data, you can try to unfreeze all or part of the base model and retrain the whole model end-to-end with a very low learning rate. This is an optional last step that can potentially give you incremental improvements. It could also potentially lead to quick overfitting -- keep that in mind. It is critical to only do this step after the model with frozen layers has been trained to convergence. If you mix randomly-initialized trainable layers with trainable layers that hold pre-trained features, the randomly-initialized layers will cause very large gradient updates during training, which will destroy your pre-trained features. It's also critical to use a very low learning rate at this stage, because you are training a much larger model than in the first round of training, on a dataset that is typically very small. As a result, you are at risk of overfitting very quickly if you apply large weight updates. Here, you only want to readapt the pretrained weights in an incremental way._\n",
        "\n",
        "\n",
        "1. Add **Data Augmentation** if your model is overfitting. \n",
        "\n",
        "2. If your model is not overfitting, try a more complex model.\n",
        "\n",
        "3. Perform a precise **Grid Search** on all the hyper-parameters: learning_rate, batch_size, data augmentation etc...\n",
        "\n",
        "4. **Change the base model** to more modern one CNN (ResNet, EfficientNet1,... available in the keras library)\n",
        "\n",
        "5. Curate the data: maintaining a sane data set is one of the keys to success.\n",
        "\n",
        "6. Collect more data"
      ]
    },
    {
      "cell_type": "markdown",
      "metadata": {
        "id": "w3UMNBZHZ2vb"
      },
      "source": [
        "## (6.2) Comparing the performances of the CNN, the VGG, and the VGG trained on the augmented dataset"
      ]
    },
    {
      "cell_type": "code",
      "execution_count": null,
      "metadata": {
        "id": "9PQLnU_H6Zo_"
      },
      "outputs": [],
      "source": [
        "test_accuracy_aug = res_aug[-1]\n",
        "\n",
        "\n",
        "print(f\"test_accuracy_aug = {round(test_accuracy_aug,2)*100} %\")\n",
        "\n",
        "print(f\"test_accuracy_vgg = {round(test_accuracy_vgg,2)*100} %\")\n",
        "\n",
        "print(f\"test_accuracy = {round(test_accuracy,2)*100} %\")\n",
        "\n",
        "print(f'Chance level: {1./num_classes*100:.1f}%')\n",
        "\n"
      ]
    },
    {
      "cell_type": "markdown",
      "metadata": {
        "id": "u8gaSAxLZ2vc"
      },
      "source": [
        "---\n",
        "\n",
        "🏁 **Congratulations** 🏁 \n",
        "\n",
        "1. Download this notebook from your `Google Drive` or directly from `Google Colab` \n",
        "2. Drag-and-drop it from your `Downloads` folder to your local challenge folder  \n",
        "\n",
        "\n",
        "💾 Don't forget to push your code\n",
        "\n",
        "3. Follow the usual procedure on your terminal inside the challenge folder:\n",
        "      * *git add cifar_classification.ipynb*\n",
        "      * *git commit -m \"I am the god of Transfer Learning\"*\n",
        "      * *git push origin master*\n",
        "\n",
        "*Hint*: To find where this Colab notebook has been saved, click on `File` $\\rightarrow$ `Locate in Drive`.\n",
        "\n",
        "🚀 If you have time, move on to the **Autoencoders** challenge!"
      ]
    }
  ],
  "metadata": {
    "kernelspec": {
      "display_name": "Python 3",
      "language": "python",
      "name": "python3"
    },
    "colab": {
      "provenance": [],
      "include_colab_link": true
    }
  },
  "nbformat": 4,
  "nbformat_minor": 0
}